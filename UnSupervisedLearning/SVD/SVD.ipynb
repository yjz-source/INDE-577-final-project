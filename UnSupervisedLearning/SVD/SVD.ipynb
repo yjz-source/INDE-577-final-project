{
  "nbformat": 4,
  "nbformat_minor": 0,
  "metadata": {
    "colab": {
      "provenance": []
    },
    "kernelspec": {
      "name": "python3",
      "display_name": "Python 3"
    },
    "language_info": {
      "name": "python"
    }
  },
  "cells": [
    {
      "cell_type": "code",
      "source": [
        "!pip install -r requirements.txt"
      ],
      "metadata": {
        "colab": {
          "base_uri": "https://localhost:8080/"
        },
        "id": "cDRY0wtD18CA",
        "outputId": "229550ef-ad20-42d0-964f-56f79a53c9b0"
      },
      "execution_count": 9,
      "outputs": [
        {
          "output_type": "stream",
          "name": "stdout",
          "text": [
            "Collecting cycler==0.11.0 (from -r requirements.txt (line 1))\n",
            "  Using cached cycler-0.11.0-py3-none-any.whl.metadata (785 bytes)\n",
            "Collecting fonttools==4.29.1 (from -r requirements.txt (line 2))\n",
            "  Using cached fonttools-4.29.1-py3-none-any.whl.metadata (119 kB)\n",
            "Collecting joblib==1.1.0 (from -r requirements.txt (line 3))\n",
            "  Using cached joblib-1.1.0-py2.py3-none-any.whl.metadata (5.2 kB)\n",
            "Collecting kiwisolver==1.3.2 (from -r requirements.txt (line 4))\n",
            "  Using cached kiwisolver-1.3.2.tar.gz (54 kB)\n",
            "  Preparing metadata (setup.py) ... \u001b[?25l\u001b[?25hdone\n",
            "Collecting matplotlib==3.5.1 (from -r requirements.txt (line 5))\n",
            "  Using cached matplotlib-3.5.1.tar.gz (35.3 MB)\n",
            "  Preparing metadata (setup.py) ... \u001b[?25l\u001b[?25hdone\n",
            "Collecting mlxtend==0.19.0 (from -r requirements.txt (line 6))\n",
            "  Using cached mlxtend-0.19.0-py2.py3-none-any.whl.metadata (1.6 kB)\n",
            "Collecting numpy==1.22.2 (from -r requirements.txt (line 7))\n",
            "  Using cached numpy-1.22.2.zip (11.4 MB)\n",
            "  Installing build dependencies ... \u001b[?25l\u001b[?25hdone\n",
            "  Getting requirements to build wheel ... \u001b[?25l\u001b[?25hdone\n",
            "  Preparing metadata (pyproject.toml) ... \u001b[?25l\u001b[?25hdone\n",
            "Collecting packaging==21.3 (from -r requirements.txt (line 8))\n",
            "  Using cached packaging-21.3-py3-none-any.whl.metadata (15 kB)\n",
            "Collecting pandas==1.4.1 (from -r requirements.txt (line 9))\n",
            "  Using cached pandas-1.4.1.tar.gz (4.9 MB)\n",
            "  Installing build dependencies ... \u001b[?25l\u001b[?25hdone\n",
            "  Getting requirements to build wheel ... \u001b[?25l\u001b[?25hdone\n",
            "  Preparing metadata (pyproject.toml) ... \u001b[?25l\u001b[?25hdone\n",
            "Collecting Pillow==9.0.1 (from -r requirements.txt (line 10))\n",
            "  Using cached Pillow-9.0.1.tar.gz (49.5 MB)\n",
            "  Preparing metadata (setup.py) ... \u001b[?25l\u001b[?25hdone\n",
            "Collecting pyparsing==3.0.7 (from -r requirements.txt (line 11))\n",
            "  Using cached pyparsing-3.0.7-py3-none-any.whl.metadata (4.2 kB)\n",
            "Collecting python-dateutil==2.8.2 (from -r requirements.txt (line 12))\n",
            "  Using cached python_dateutil-2.8.2-py2.py3-none-any.whl.metadata (8.2 kB)\n",
            "Collecting pytz==2021.3 (from -r requirements.txt (line 13))\n",
            "  Using cached pytz-2021.3-py2.py3-none-any.whl.metadata (21 kB)\n",
            "Collecting scikit-learn==1.0.2 (from -r requirements.txt (line 14))\n",
            "  Using cached scikit-learn-1.0.2.tar.gz (6.7 MB)\n",
            "  Installing build dependencies ... \u001b[?25l\u001b[?25hdone\n",
            "  Getting requirements to build wheel ... \u001b[?25l\u001b[?25hdone\n",
            "  \u001b[1;31merror\u001b[0m: \u001b[1msubprocess-exited-with-error\u001b[0m\n",
            "  \n",
            "  \u001b[31m×\u001b[0m \u001b[32mPreparing metadata \u001b[0m\u001b[1;32m(\u001b[0m\u001b[32mpyproject.toml\u001b[0m\u001b[1;32m)\u001b[0m did not run successfully.\n",
            "  \u001b[31m│\u001b[0m exit code: \u001b[1;36m1\u001b[0m\n",
            "  \u001b[31m╰─>\u001b[0m See above for output.\n",
            "  \n",
            "  \u001b[1;35mnote\u001b[0m: This error originates from a subprocess, and is likely not a problem with pip.\n",
            "  Preparing metadata (pyproject.toml) ... \u001b[?25l\u001b[?25herror\n",
            "\u001b[1;31merror\u001b[0m: \u001b[1mmetadata-generation-failed\u001b[0m\n",
            "\n",
            "\u001b[31m×\u001b[0m Encountered error while generating package metadata.\n",
            "\u001b[31m╰─>\u001b[0m See above for output.\n",
            "\n",
            "\u001b[1;35mnote\u001b[0m: This is an issue with the package mentioned above, not pip.\n",
            "\u001b[1;36mhint\u001b[0m: See above for details.\n"
          ]
        }
      ]
    },
    {
      "cell_type": "code",
      "source": [
        "import pandas as pd\n",
        "import numpy as np\n",
        "import matplotlib.pyplot as plt\n",
        "\n",
        "\n",
        "\n",
        "# Load data\n",
        "data = pd.read_csv('/content/train.csv')\n",
        "image = data.drop('label', axis=1).iloc[0].values.reshape(28, 28)  # First image\n",
        "\n",
        "# Normalize image\n",
        "image = image / 255.0\n",
        "\n",
        "# Apply SVD\n",
        "U, S, VT = np.linalg.svd(image, full_matrices=False)\n",
        "\n",
        "# Reconstruct with k=10 singular values\n",
        "k = 10\n",
        "S_k = np.zeros_like(S)\n",
        "S_k[:k] = S[:k]\n",
        "image_compressed = np.dot(U[:, :k] * S_k[:k], VT[:k, :])\n",
        "\n",
        "# Visualize original vs compressed\n",
        "plt.figure(figsize=(10, 5))\n",
        "plt.subplot(1, 2, 1)\n",
        "plt.imshow(image, cmap='gray')\n",
        "plt.title('Original Image')\n",
        "plt.axis('off')\n",
        "plt.subplot(1, 2, 2)\n",
        "plt.imshow(image_compressed, cmap='gray')\n",
        "plt.title(f'Compressed Image (k={k})')\n",
        "plt.axis('off')\n",
        "plt.savefig('svd_compression.png')\n",
        "plt.show()\n",
        "\n",
        "# Compute compression ratio\n",
        "original_size = image.size\n",
        "compressed_size = U[:, :k].size + S_k[:k].size + VT[:k, :].size\n",
        "print(f'Compression Ratio: {original_size / compressed_size:.2f}')\n",
        "print('Analysis: SVD compressed the digit image effectively, retaining key features with fewer components.')"
      ],
      "metadata": {
        "colab": {
          "base_uri": "https://localhost:8080/",
          "height": 446
        },
        "id": "Ydxqatr0IZVn",
        "outputId": "72577077-75fc-4196-d501-34a6abb2731d"
      },
      "execution_count": 13,
      "outputs": [
        {
          "output_type": "display_data",
          "data": {
            "text/plain": [
              "<Figure size 1000x500 with 2 Axes>"
            ],
            "image/png": "[encoded data removed]"
          },
          "metadata": {}
        },
        {
          "output_type": "stream",
          "name": "stdout",
          "text": [
            "Compression Ratio: 1.38\n",
            "Analysis: SVD compressed the digit image effectively, retaining key features with fewer components.\n"
          ]
        }
      ]
    }
  ]
}